{
 "cells": [
  {
   "cell_type": "code",
   "execution_count": 1,
   "id": "fe0d22c5",
   "metadata": {},
   "outputs": [],
   "source": [
    "def partition(arr, low, high):\n",
    "    \n",
    "  pivot=arr[high]\n",
    "  i=low-1\n",
    "  \n",
    "  for j in range(low,high):\n",
    "    if arr[j]<=pivot:\n",
    "      i=i+1\n",
    "      (arr[i],arr[j])=(arr[j],arr[i])\n",
    "  (arr[high],arr[i+1])=(arr[i+1],arr[high])\n",
    "  return i+1"
   ]
  },
  {
   "cell_type": "code",
   "execution_count": 2,
   "id": "ba226f51",
   "metadata": {},
   "outputs": [],
   "source": [
    "def quicksort(arr, low, high):\n",
    "  if low < high:\n",
    "    part=partition(arr,low,high)\n",
    "    quicksort(arr,low,part-1)\n",
    "    quicksort(arr,part+1,high)"
   ]
  },
  {
   "cell_type": "code",
   "execution_count": 3,
   "id": "e0ca3a47",
   "metadata": {},
   "outputs": [
    {
     "name": "stdout",
     "output_type": "stream",
     "text": [
      "[5, 20, 33, 40, 50, 56, 96]\n"
     ]
    }
   ],
   "source": [
    "arr=[5,40,33,20,96,50,56]    \n",
    "quicksort(arr,0,len(arr)-1)\n",
    "print(arr)"
   ]
  }
 ],
 "metadata": {
  "kernelspec": {
   "display_name": "Python 3 (ipykernel)",
   "language": "python",
   "name": "python3"
  },
  "language_info": {
   "codemirror_mode": {
    "name": "ipython",
    "version": 3
   },
   "file_extension": ".py",
   "mimetype": "text/x-python",
   "name": "python",
   "nbconvert_exporter": "python",
   "pygments_lexer": "ipython3",
   "version": "3.9.12"
  }
 },
 "nbformat": 4,
 "nbformat_minor": 5
}
