{
 "cells": [
  {
   "cell_type": "code",
   "execution_count": 6,
   "id": "fd853384",
   "metadata": {},
   "outputs": [],
   "source": [
    "import sys\n",
    "\n",
    "def MatrixChainOrder(p, n):\n",
    "\n",
    "    m = [[0 for x in range(n)] for x in range(n)]\n",
    " \n",
    "    for i in range(1, n):\n",
    "        m[i][i] = 0\n",
    " \n",
    "    for L in range(2, n):\n",
    "        for i in range(1, n-L + 1):\n",
    "            j = i + L-1\n",
    "            m[i][j] = sys.maxsize\n",
    "            for k in range(i, j):\n",
    " \n",
    "                # q = cost / scalar multiplications\n",
    "                q = m[i][k] + m[k + 1][j] + p[i-1]*p[k]*p[j]\n",
    "                if q < m[i][j]:\n",
    "                    m[i][j] = q\n",
    " \n",
    "    return m[1][n-1]"
   ]
  },
  {
   "cell_type": "code",
   "execution_count": 7,
   "id": "844d4c37",
   "metadata": {},
   "outputs": [
    {
     "name": "stdout",
     "output_type": "stream",
     "text": [
      "Minimum number of multiplications is 30\n"
     ]
    }
   ],
   "source": [
    "arr = [1, 2, 3, 4, 3]\n",
    "size = len(arr)\n",
    " \n",
    "print(\"Minimum number of multiplications is \" + str(MatrixChainOrder(arr, size)))"
   ]
  }
 ],
 "metadata": {
  "kernelspec": {
   "display_name": "Python 3 (ipykernel)",
   "language": "python",
   "name": "python3"
  },
  "language_info": {
   "codemirror_mode": {
    "name": "ipython",
    "version": 3
   },
   "file_extension": ".py",
   "mimetype": "text/x-python",
   "name": "python",
   "nbconvert_exporter": "python",
   "pygments_lexer": "ipython3",
   "version": "3.9.12"
  }
 },
 "nbformat": 4,
 "nbformat_minor": 5
}
