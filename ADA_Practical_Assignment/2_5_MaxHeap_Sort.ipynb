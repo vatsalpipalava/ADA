{
 "cells": [
  {
   "cell_type": "code",
   "execution_count": 9,
   "id": "9bd207f3",
   "metadata": {},
   "outputs": [],
   "source": [
    "# Heapify\n",
    "def max_heapify(Arr, n, i):\n",
    "    largest = i\n",
    "    left = 2*i + 1\n",
    "    right = 2*i + 2\n",
    "\n",
    "    #largest so far is compared with left child\n",
    "    if left < n and Arr[largest] < Arr[left]:\n",
    "        largest = left\n",
    "\n",
    "\n",
    "    #largest so far is compared with right child\n",
    "    if right < n and Arr[largest] < Arr[right]:\n",
    "        largest = right\n",
    "        \n",
    "    #change parent\n",
    "    if largest!=i:\n",
    "        Arr[i], Arr[largest] = Arr[largest], Arr[i]\n",
    "        #recursive call\n",
    "        max_heapify(Arr, n, largest)"
   ]
  },
  {
   "cell_type": "code",
   "execution_count": 10,
   "id": "4c2b49bd",
   "metadata": {},
   "outputs": [],
   "source": [
    "# Build Heap\n",
    "for i in range(n//2 - 1, -1, -1):\n",
    "    max_heapify(Arr, n, i)"
   ]
  },
  {
   "cell_type": "code",
   "execution_count": 11,
   "id": "a4d7cfc7",
   "metadata": {},
   "outputs": [],
   "source": [
    "# Heap Sort\n",
    "def heapSort(Arr):\n",
    "    for i in range(n-1, 0, -1):\n",
    "        # Swap\n",
    "        Arr[i], Arr[0] = Arr[0], Arr[i]\n",
    "        max_heapify(Arr, i, 0)"
   ]
  },
  {
   "cell_type": "code",
   "execution_count": 12,
   "id": "a3aa039b",
   "metadata": {},
   "outputs": [
    {
     "name": "stdout",
     "output_type": "stream",
     "text": [
      "Sorted Array is\n",
      "5\n",
      "9\n",
      "10\n",
      "30\n",
      "66\n",
      "2\n"
     ]
    }
   ],
   "source": [
    "Arr = [2,66,30,5,9,10]\n",
    "n = len(Arr)\n",
    "\n",
    "heapSort(Arr)\n",
    "\n",
    "print(\"Sorted Array is\")\n",
    "for i in range(n):\n",
    "   print(Arr[i])"
   ]
  }
 ],
 "metadata": {
  "kernelspec": {
   "display_name": "Python 3 (ipykernel)",
   "language": "python",
   "name": "python3"
  },
  "language_info": {
   "codemirror_mode": {
    "name": "ipython",
    "version": 3
   },
   "file_extension": ".py",
   "mimetype": "text/x-python",
   "name": "python",
   "nbconvert_exporter": "python",
   "pygments_lexer": "ipython3",
   "version": "3.9.12"
  }
 },
 "nbformat": 4,
 "nbformat_minor": 5
}
