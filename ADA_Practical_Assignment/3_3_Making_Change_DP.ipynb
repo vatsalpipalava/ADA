{
 "cells": [
  {
   "cell_type": "code",
   "execution_count": 99,
   "id": "a20b764c",
   "metadata": {},
   "outputs": [
    {
     "name": "stdout",
     "output_type": "stream",
     "text": [
      "[999999, 999999, 999999, 999999, 999999, 999999, 999999, 999999, 999999, 999999, 999999]\n",
      "[0, 1, 2, 3, 4, 5, 6, 7, 8, 9, 10]\n",
      "[0, 1, 2, 3, 1, 2, 3, 4, 2, 3, 4]\n",
      "[0, 1, 2, 3, 1, 2, 1, 2, 2, 3, 2]\n"
     ]
    }
   ],
   "source": [
    "denomination = [1, 4, 6]\n",
    "amountToBePaid = 10\n",
    "table = []\n",
    "\n",
    "for i in range(len(denomination) + 1):\n",
    "    row = []\n",
    "    for j in range(amountToBePaid + 1):\n",
    "        row.append(0)        \n",
    "    table.append(row)\n",
    "    \n",
    "for i in range(len(denomination) + 1):\n",
    "    row = []\n",
    "    if i >= 1:\n",
    "        \n",
    "        coin = denomination[i-1]\n",
    "    for j in range(amountToBePaid + 1):\n",
    "        if i == 0:\n",
    "            value = 999999\n",
    "        elif j == 0:\n",
    "            value = 0\n",
    "        elif j < coin:\n",
    "            value =table[i-1][j]\n",
    "        else:\n",
    "            v1 = table[i-1][j]\n",
    "            v2 = 1 + table[i][j - coin]\n",
    "            value = min(v1, v2)\n",
    "        table[i][j] = value\n",
    "\n",
    "\n",
    "for i in range(len(table)):\n",
    "    print(table[i])"
   ]
  }
 ],
 "metadata": {
  "kernelspec": {
   "display_name": "Python 3 (ipykernel)",
   "language": "python",
   "name": "python3"
  },
  "language_info": {
   "codemirror_mode": {
    "name": "ipython",
    "version": 3
   },
   "file_extension": ".py",
   "mimetype": "text/x-python",
   "name": "python",
   "nbconvert_exporter": "python",
   "pygments_lexer": "ipython3",
   "version": "3.9.12"
  }
 },
 "nbformat": 4,
 "nbformat_minor": 5
}
