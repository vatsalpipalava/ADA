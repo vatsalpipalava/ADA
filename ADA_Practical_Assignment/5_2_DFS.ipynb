{
 "cells": [
  {
   "cell_type": "code",
   "execution_count": 3,
   "id": "9d5a6c93",
   "metadata": {},
   "outputs": [],
   "source": [
    "graph = {'A':['B','C','D'],'B':['E'],'C':['D','E'],'D':[],'E':[]}\n",
    "visited = set()"
   ]
  },
  {
   "cell_type": "code",
   "execution_count": 4,
   "id": "17526ae6",
   "metadata": {},
   "outputs": [],
   "source": [
    "def dfs(visited, graph, root):\n",
    "    if root not in visited:\n",
    "        print(root)\n",
    "        visited.add(root)\n",
    "        for neighbour in graph[root]:\n",
    "          dfs(visited, graph, neighbour)"
   ]
  },
  {
   "cell_type": "code",
   "execution_count": 5,
   "id": "b72c57ec",
   "metadata": {},
   "outputs": [
    {
     "name": "stdout",
     "output_type": "stream",
     "text": [
      "A\n",
      "B\n",
      "E\n",
      "C\n",
      "D\n"
     ]
    }
   ],
   "source": [
    "dfs(visited,graph,'A')"
   ]
  }
 ],
 "metadata": {
  "kernelspec": {
   "display_name": "Python 3 (ipykernel)",
   "language": "python",
   "name": "python3"
  },
  "language_info": {
   "codemirror_mode": {
    "name": "ipython",
    "version": 3
   },
   "file_extension": ".py",
   "mimetype": "text/x-python",
   "name": "python",
   "nbconvert_exporter": "python",
   "pygments_lexer": "ipython3",
   "version": "3.9.12"
  }
 },
 "nbformat": 4,
 "nbformat_minor": 5
}
