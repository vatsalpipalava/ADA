{
 "cells": [
  {
   "cell_type": "code",
   "execution_count": 7,
   "id": "e0ce33d2",
   "metadata": {},
   "outputs": [],
   "source": [
    "import sys"
   ]
  },
  {
   "cell_type": "code",
   "execution_count": 8,
   "id": "b5ef4b36",
   "metadata": {},
   "outputs": [],
   "source": [
    "class Graph():\n",
    " \n",
    "    def __init__(self, vertices):\n",
    "        self.V = vertices\n",
    "        self.graph = [[0 for column in range(vertices)] for row in range(vertices)]\n",
    " \n",
    "    def printMST(self, parent):\n",
    "        print(\"Edge \\tWeight\")\n",
    "        for i in range(1, self.V):\n",
    "            print(parent[i], \"-\", i, \"\\t\", self.graph[i][parent[i]])\n",
    " \n",
    "    def minKey(self, key, mstSet):\n",
    "        min = sys.maxsize\n",
    "        for v in range(self.V):\n",
    "            if key[v] < min and mstSet[v] == False:\n",
    "                min = key[v]\n",
    "                min_index = v\n",
    "        return min_index\n",
    "\n",
    "    def primMST(self):\n",
    "\n",
    "        key = [sys.maxsize] * self.V\n",
    "        parent = [None] * self.V  \n",
    "\n",
    "        key[0] = 0\n",
    "        mstSet = [False] * self.V\n",
    " \n",
    "        parent[0] = -1\n",
    " \n",
    "        for cout in range(self.V):\n",
    "            u = self.minKey(key, mstSet)\n",
    "            mstSet[u] = True\n",
    "            for v in range(self.V):\n",
    "                if self.graph[u][v] > 0 and mstSet[v] == False and key[v] > self.graph[u][v]:\n",
    "                    key[v] = self.graph[u][v]\n",
    "                    parent[v] = u\n",
    "        self.printMST(parent)"
   ]
  },
  {
   "cell_type": "code",
   "execution_count": 9,
   "id": "5f6ef7fc",
   "metadata": {},
   "outputs": [
    {
     "name": "stdout",
     "output_type": "stream",
     "text": [
      "Edge \tWeight\n",
      "0 - 1 \t 2\n",
      "1 - 2 \t 3\n",
      "0 - 3 \t 6\n",
      "1 - 4 \t 5\n"
     ]
    }
   ],
   "source": [
    "if __name__ == '__main__':\n",
    "    g = Graph(5)\n",
    "    g.graph = [[0, 2, 0, 6, 0],\n",
    "               [2, 0, 3, 8, 5],\n",
    "               [0, 3, 0, 0, 7],\n",
    "               [6, 8, 0, 0, 9],\n",
    "               [0, 5, 7, 9, 0]]\n",
    " \n",
    "    g.primMST()"
   ]
  }
 ],
 "metadata": {
  "kernelspec": {
   "display_name": "Python 3 (ipykernel)",
   "language": "python",
   "name": "python3"
  },
  "language_info": {
   "codemirror_mode": {
    "name": "ipython",
    "version": 3
   },
   "file_extension": ".py",
   "mimetype": "text/x-python",
   "name": "python",
   "nbconvert_exporter": "python",
   "pygments_lexer": "ipython3",
   "version": "3.9.12"
  }
 },
 "nbformat": 4,
 "nbformat_minor": 5
}
