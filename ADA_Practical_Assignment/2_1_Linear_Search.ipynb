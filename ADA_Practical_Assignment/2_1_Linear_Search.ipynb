{
 "cells": [
  {
   "cell_type": "code",
   "execution_count": 1,
   "id": "fa3eb68c",
   "metadata": {},
   "outputs": [],
   "source": [
    "def linearSearch(a,key):\n",
    "    for i in range (0,len(a)):\n",
    "        if(a[i]==key):\n",
    "            return i\n",
    "    return -1"
   ]
  },
  {
   "cell_type": "code",
   "execution_count": 2,
   "id": "5bcea4ce",
   "metadata": {},
   "outputs": [],
   "source": [
    "a = [5,9,1,3,10]\n",
    "key = 10"
   ]
  },
  {
   "cell_type": "code",
   "execution_count": 3,
   "id": "3323dc91",
   "metadata": {},
   "outputs": [
    {
     "name": "stdout",
     "output_type": "stream",
     "text": [
      "Element found at index:  4\n"
     ]
    }
   ],
   "source": [
    "find = linearSearch(a,key)\n",
    "if(find==-1):\n",
    "    print(\"Key Element not found\")\n",
    "else:  \n",
    "    print(\"Element found at index: \", find)  "
   ]
  }
 ],
 "metadata": {
  "kernelspec": {
   "display_name": "Python 3 (ipykernel)",
   "language": "python",
   "name": "python3"
  },
  "language_info": {
   "codemirror_mode": {
    "name": "ipython",
    "version": 3
   },
   "file_extension": ".py",
   "mimetype": "text/x-python",
   "name": "python",
   "nbconvert_exporter": "python",
   "pygments_lexer": "ipython3",
   "version": "3.9.12"
  }
 },
 "nbformat": 4,
 "nbformat_minor": 5
}
