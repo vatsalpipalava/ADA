{
 "cells": [
  {
   "cell_type": "code",
   "execution_count": 1,
   "id": "a1a55df5",
   "metadata": {},
   "outputs": [],
   "source": [
    "class Item:\n",
    "    def __init__(self, value, weight):\n",
    "        self.value = value\n",
    "        self.weight = weight"
   ]
  },
  {
   "cell_type": "code",
   "execution_count": 2,
   "id": "baeb6baf",
   "metadata": {},
   "outputs": [],
   "source": [
    "def fractionalKnapsack(W, arr):\n",
    "\n",
    "    arr.sort(key=lambda x: (x.value/x.weight), reverse=True)   \n",
    "\n",
    "    finalvalue = 0.0\n",
    "\n",
    "    for item in arr:\n",
    "\n",
    "        if item.weight <= W:\n",
    "            W -= item.weight\n",
    "            finalvalue += item.value\n",
    "        else:\n",
    "            finalvalue += item.value * W / item.weight\n",
    "            break\n",
    "            \n",
    "    return finalvalue"
   ]
  },
  {
   "cell_type": "code",
   "execution_count": 4,
   "id": "d4db5640",
   "metadata": {},
   "outputs": [
    {
     "name": "stdout",
     "output_type": "stream",
     "text": [
      "160.0\n"
     ]
    }
   ],
   "source": [
    "if __name__ == \"__main__\":\n",
    " \n",
    "    W = 25\n",
    "    arr = [Item(100, 10), Item(120, 30), Item(60, 20)]\n",
    "\n",
    "    max_val = fractionalKnapsack(W, arr)\n",
    "    print(max_val)"
   ]
  }
 ],
 "metadata": {
  "kernelspec": {
   "display_name": "Python 3 (ipykernel)",
   "language": "python",
   "name": "python3"
  },
  "language_info": {
   "codemirror_mode": {
    "name": "ipython",
    "version": 3
   },
   "file_extension": ".py",
   "mimetype": "text/x-python",
   "name": "python",
   "nbconvert_exporter": "python",
   "pygments_lexer": "ipython3",
   "version": "3.9.12"
  }
 },
 "nbformat": 4,
 "nbformat_minor": 5
}
