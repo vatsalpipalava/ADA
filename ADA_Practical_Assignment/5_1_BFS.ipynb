{
 "cells": [
  {
   "cell_type": "code",
   "execution_count": 1,
   "id": "85eee63d",
   "metadata": {},
   "outputs": [],
   "source": [
    "#Implementing BFS\n",
    "import collections\n",
    "def bfs(graph,root):\n",
    "    visited = set()\n",
    "    queue = collections.deque([root])\n",
    "\n",
    "    while queue:\n",
    "        vertex = queue.popleft() # Dequeue\n",
    "        visited.add(vertex)      # Add to visited\n",
    "        for i in graph[vertex]:  # Traverse the list at graph[vertex]\n",
    "            if i not in visited: # Check if visited\n",
    "                queue.append(i)  # Enqueue\n",
    "    print(visited)  # Final Result"
   ]
  },
  {
   "cell_type": "code",
   "execution_count": 2,
   "id": "51c530b4",
   "metadata": {},
   "outputs": [
    {
     "name": "stdout",
     "output_type": "stream",
     "text": [
      "{0, 1, 2, 3, 4}\n"
     ]
    }
   ],
   "source": [
    "if __name__ == \"__main__\":\n",
    "    # Dictionary representation of Graph\n",
    "    graph = {0:[1,2,3],1:[0,2],2:[0,1,4],3:[0],4:[2]}\n",
    "    bfs(graph,0)"
   ]
  }
 ],
 "metadata": {
  "kernelspec": {
   "display_name": "Python 3 (ipykernel)",
   "language": "python",
   "name": "python3"
  },
  "language_info": {
   "codemirror_mode": {
    "name": "ipython",
    "version": 3
   },
   "file_extension": ".py",
   "mimetype": "text/x-python",
   "name": "python",
   "nbconvert_exporter": "python",
   "pygments_lexer": "ipython3",
   "version": "3.9.12"
  }
 },
 "nbformat": 4,
 "nbformat_minor": 5
}
