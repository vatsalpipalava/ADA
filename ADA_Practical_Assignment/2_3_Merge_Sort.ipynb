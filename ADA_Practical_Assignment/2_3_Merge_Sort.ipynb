{
 "cells": [
  {
   "cell_type": "code",
   "execution_count": 2,
   "id": "bf0afdac",
   "metadata": {},
   "outputs": [],
   "source": [
    "def MergeSort(Arr):\n",
    "    if len(Arr) > 1: # Stopping Condition for Recursion\n",
    "        mid = len(Arr) // 2\n",
    "        left = Arr[:mid] # Slicing array into first half\n",
    "        right = Arr[mid:] # Slicing array into second half\n",
    "\n",
    "        # Recursive call on each half\n",
    "        MergeSort(left)\n",
    "        MergeSort(right)\n",
    "\n",
    "        i = 0\n",
    "        j = 0\n",
    "        k = 0\n",
    "        \n",
    "        while i < len(left) and j < len(right):\n",
    "            if left[i] <= right[j]:\n",
    "              Arr[k] = left[i]\n",
    "              i += 1\n",
    "            else:\n",
    "                Arr[k] = right[j]\n",
    "                j += 1\n",
    "            \n",
    "            k += 1\n",
    "\n",
    "        # For all the remaining values\n",
    "        while i < len(left): # Left has some remaining elements\n",
    "            Arr[k] = left[i]\n",
    "            i += 1\n",
    "            k += 1\n",
    "\n",
    "        while j < len(right):# Right has some remaining elements\n",
    "            Arr[k]=right[j]\n",
    "            j += 1\n",
    "            k += 1"
   ]
  },
  {
   "cell_type": "code",
   "execution_count": 3,
   "id": "e9d0a1ba",
   "metadata": {},
   "outputs": [
    {
     "name": "stdout",
     "output_type": "stream",
     "text": [
      "[1, 3, 5, 9, 10, 12, 15]\n"
     ]
    }
   ],
   "source": [
    "Arr = [5,3,10,9,1,12,15]\n",
    "MergeSort(Arr)\n",
    "print(Arr)"
   ]
  }
 ],
 "metadata": {
  "kernelspec": {
   "display_name": "Python 3 (ipykernel)",
   "language": "python",
   "name": "python3"
  },
  "language_info": {
   "codemirror_mode": {
    "name": "ipython",
    "version": 3
   },
   "file_extension": ".py",
   "mimetype": "text/x-python",
   "name": "python",
   "nbconvert_exporter": "python",
   "pygments_lexer": "ipython3",
   "version": "3.9.12"
  }
 },
 "nbformat": 4,
 "nbformat_minor": 5
}
