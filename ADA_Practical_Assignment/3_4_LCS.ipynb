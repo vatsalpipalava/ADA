{
 "cells": [
  {
   "cell_type": "code",
   "execution_count": 16,
   "id": "ba6958ab",
   "metadata": {},
   "outputs": [],
   "source": [
    "def lcs(X, Y, m, n):\n",
    " \n",
    "    L = [[None]*(n + 1) for i in range(m + 1)]\n",
    " \n",
    "    for i in range (m + 1):\n",
    "        for j in range(n + 1):\n",
    "            if i == 0 or j == 0 :\n",
    "                L[i][j] = 0\n",
    "            elif X[i-1] == Y[j-1]:\n",
    "                L[i][j] = L[i-1][j-1]+1\n",
    "            else:\n",
    "                L[i][j] = max(L[i-1][j], L[i][j-1])\n",
    "                \n",
    "    return L[m][n]"
   ]
  },
  {
   "cell_type": "code",
   "execution_count": 17,
   "id": "f19d3df9",
   "metadata": {},
   "outputs": [
    {
     "name": "stdout",
     "output_type": "stream",
     "text": [
      "Length of LCS is  2\n"
     ]
    }
   ],
   "source": [
    "X = \"AGCAT\"\n",
    "Y = \"GAC\"\n",
    "m = len(X)\n",
    "n = len(Y)\n",
    "print(\"Length of LCS is \", lcs(X, Y, m, n))"
   ]
  }
 ],
 "metadata": {
  "kernelspec": {
   "display_name": "Python 3 (ipykernel)",
   "language": "python",
   "name": "python3"
  },
  "language_info": {
   "codemirror_mode": {
    "name": "ipython",
    "version": 3
   },
   "file_extension": ".py",
   "mimetype": "text/x-python",
   "name": "python",
   "nbconvert_exporter": "python",
   "pygments_lexer": "ipython3",
   "version": "3.9.12"
  }
 },
 "nbformat": 4,
 "nbformat_minor": 5
}
