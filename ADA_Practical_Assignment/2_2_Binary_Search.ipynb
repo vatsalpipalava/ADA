{
 "cells": [
  {
   "cell_type": "code",
   "execution_count": 3,
   "id": "779f5591",
   "metadata": {},
   "outputs": [],
   "source": [
    "# Binary Search using recursive \n",
    "\n",
    "def binary_search(arr, l, r, x):\n",
    "    if l<=r: #Stopping Condition\n",
    "        mid = l + (r -1) // 2 #Absolute value after division\n",
    "        if x == arr[mid]:\n",
    "            return mid\n",
    "        if x < arr[mid]:\n",
    "            return binary_search(arr, l, mid - 1, x) #Recursive Call\n",
    "        elif x > arr[mid]:\n",
    "            return binary_search(arr, mid + 1, r, x)\n",
    "    else:\n",
    "        return -1"
   ]
  },
  {
   "cell_type": "code",
   "execution_count": 4,
   "id": "a63e6fbb",
   "metadata": {},
   "outputs": [
    {
     "name": "stdout",
     "output_type": "stream",
     "text": [
      "Found Element at 1\n"
     ]
    }
   ],
   "source": [
    "arr = [5,10,12,30,41,50]\n",
    "x = 10\n",
    "answer = binary_search(arr,0,len(arr) - 1,x)\n",
    "if answer != -1:\n",
    "    print(\"Found Element at %d\"%answer)\n",
    "else:\n",
    "    print(\"Not Found\")"
   ]
  }
 ],
 "metadata": {
  "kernelspec": {
   "display_name": "Python 3 (ipykernel)",
   "language": "python",
   "name": "python3"
  },
  "language_info": {
   "codemirror_mode": {
    "name": "ipython",
    "version": 3
   },
   "file_extension": ".py",
   "mimetype": "text/x-python",
   "name": "python",
   "nbconvert_exporter": "python",
   "pygments_lexer": "ipython3",
   "version": "3.9.12"
  }
 },
 "nbformat": 4,
 "nbformat_minor": 5
}
